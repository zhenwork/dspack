{
 "cells": [
  {
   "cell_type": "code",
   "execution_count": 1,
   "metadata": {},
   "outputs": [
    {
     "data": {
      "text/html": [
       "<style>.container { width:100% !important; }</style>"
      ],
      "text/plain": [
       "<IPython.core.display.HTML object>"
      ]
     },
     "metadata": {},
     "output_type": "display_data"
    }
   ],
   "source": [
    "from IPython.core.display import display, HTML\n",
    "display(HTML(\"<style>.container { width:100% !important; }</style>\"))"
   ]
  },
  {
   "cell_type": "code",
   "execution_count": 2,
   "metadata": {},
   "outputs": [],
   "source": [
    "import time\n",
    "import h5py\n",
    "import os,sys\n",
    "import numpy as np\n",
    "DSPACK_HOME=os.environ.get(\"DSPACK_HOME\")\n",
    "if DSPACK_HOME not in sys.path:\n",
    "    sys.path.append(DSPACK_HOME)\n",
    "import scripts.fsystem"
   ]
  },
  {
   "cell_type": "code",
   "execution_count": 3,
   "metadata": {},
   "outputs": [],
   "source": [
    "workdir = \"/reg/data/ana03/scratch/zhensu/Experiment/ICH/20201225/\"\n",
    "dnames = [\"WT-1\", \"WT-2\", \"WT-3\", \"G150A-1\", \"G150A-2\", \"G150A-3\", \"G150T-1\", \"G150T-2\", \"G150T-3\"]"
   ]
  },
  {
   "cell_type": "markdown",
   "metadata": {},
   "source": [
    "## Standard Deviation of LLM Results (Whether the change is sigificant)"
   ]
  },
  {
   "cell_type": "code",
   "execution_count": 5,
   "metadata": {},
   "outputs": [
    {
     "name": "stdout",
     "output_type": "stream",
     "text": [
      "0.6417   0.6448   0.637    0.6463   0.6268   0.6562   0.6475   0.654    0.6724  \n",
      "0.6642   0.6705   0.6642   0.6535   0.6473   0.6769   0.6845   0.6843   0.716   \n",
      "0.6528   0.6642   0.6212   0.644    0.6184   0.6733   0.6598   0.659    0.7076  \n"
     ]
    }
   ],
   "source": [
    "data = np.zeros((3,9))\n",
    "## Get CCLLM\n",
    "for idx, dname in enumerate(dnames):\n",
    "    path_dsdata = \"%s/data/%s/standard_clean_data_scale_profile_with_pca_map1.dsdata\"%(workdir,dname)\n",
    "    path_llm = scripts.fsystem.H5manager.reader(path_dsdata,\"lunus_llm_refmac5\")\n",
    "    \n",
    "    with h5py.File(path_llm,\"r\") as f:\n",
    "        data[0,idx] = f[\"lunus_llm_zero_cc\"][()]\n",
    "        data[1,idx] = f[\"lunus_llm_iso_cc\"][()]\n",
    "        data[2,idx] = f[\"lunus_llm_aniso_cc\"][()]\n",
    "\n",
    "## Print the data\n",
    "for idx,x in enumerate(data):\n",
    "    print \" \".join([str(round(i,4)).ljust(8) for i in x])"
   ]
  },
  {
   "cell_type": "code",
   "execution_count": 6,
   "metadata": {},
   "outputs": [
    {
     "name": "stdout",
     "output_type": "stream",
     "text": [
      "WT    |  Zero ADP | Mean=0.641 | Std=0.0032 | (0.638 -> 0.644)\n",
      "WT    |   Iso ADP | Mean=0.666 | Std=0.0030 | (0.663 -> 0.669)\n",
      "WT    | Aniso ADP | Mean=0.646 | Std=0.0182 | (0.628 -> 0.664) \n",
      "\n",
      "G150A |  Zero ADP | Mean=0.643 | Std=0.0122 | (0.631 -> 0.655)\n",
      "G150A |   Iso ADP | Mean=0.659 | Std=0.0127 | (0.646 -> 0.672)\n",
      "G150A | Aniso ADP | Mean=0.645 | Std=0.0224 | (0.623 -> 0.668) \n",
      "\n",
      "G150T |  Zero ADP | Mean=0.658 | Std=0.0106 | (0.647 -> 0.669)\n",
      "G150T |   Iso ADP | Mean=0.695 | Std=0.0149 | (0.680 -> 0.710)\n",
      "G150T | Aniso ADP | Mean=0.675 | Std=0.0227 | (0.653 -> 0.698)\n"
     ]
    }
   ],
   "source": [
    "## Calculate the standard deviation\n",
    "index = range(0,3)\n",
    "ave = np.mean(data[0,index]); std = np.std(data[0,index]);\n",
    "print \"WT    |  Zero ADP | Mean=%4.3f | Std=%6.4f | (%4.3f -> %4.3f)\"%(ave,std,ave-std,ave+std)\n",
    "ave = np.mean(data[1,index]); std = np.std(data[1,index]);\n",
    "print \"WT    |   Iso ADP | Mean=%4.3f | Std=%6.4f | (%4.3f -> %4.3f)\"%(ave,std,ave-std,ave+std)\n",
    "ave = np.mean(data[2,index]); std = np.std(data[2,index]);\n",
    "print \"WT    | Aniso ADP | Mean=%4.3f | Std=%6.4f | (%4.3f -> %4.3f)\"%(ave,std,ave-std,ave+std),\"\\n\"\n",
    "\n",
    "index = range(3,6)\n",
    "ave = np.mean(data[0,index]); std = np.std(data[0,index]);\n",
    "print \"G150A |  Zero ADP | Mean=%4.3f | Std=%6.4f | (%4.3f -> %4.3f)\"%(ave,std,ave-std,ave+std)\n",
    "ave = np.mean(data[1,index]); std = np.std(data[1,index]);\n",
    "print \"G150A |   Iso ADP | Mean=%4.3f | Std=%6.4f | (%4.3f -> %4.3f)\"%(ave,std,ave-std,ave+std)\n",
    "ave = np.mean(data[2,index]); std = np.std(data[2,index]);\n",
    "print \"G150A | Aniso ADP | Mean=%4.3f | Std=%6.4f | (%4.3f -> %4.3f)\"%(ave,std,ave-std,ave+std),\"\\n\"\n",
    "\n",
    "index = range(6,9)\n",
    "ave = np.mean(data[0,index]); std = np.std(data[0,index]);\n",
    "print \"G150T |  Zero ADP | Mean=%4.3f | Std=%6.4f | (%4.3f -> %4.3f)\"%(ave,std,ave-std,ave+std)\n",
    "ave = np.mean(data[1,index]); std = np.std(data[1,index]);\n",
    "print \"G150T |   Iso ADP | Mean=%4.3f | Std=%6.4f | (%4.3f -> %4.3f)\"%(ave,std,ave-std,ave+std)\n",
    "ave = np.mean(data[2,index]); std = np.std(data[2,index]);\n",
    "print \"G150T | Aniso ADP | Mean=%4.3f | Std=%6.4f | (%4.3f -> %4.3f)\"%(ave,std,ave-std,ave+std)"
   ]
  },
  {
   "cell_type": "markdown",
   "metadata": {},
   "source": [
    "## Standard Deviation of LLM results of PHENIX- and Refmac5-refined models"
   ]
  },
  {
   "cell_type": "code",
   "execution_count": 7,
   "metadata": {},
   "outputs": [
    {
     "name": "stdout",
     "output_type": "stream",
     "text": [
      "0.6528   0.6642   0.6212   0.644    0.6184   0.6733   0.6598   0.659    0.7076  \n",
      "0.0035   0.0032   0.1068   0.0035   0.0023   0.0031   0.0109   0.0092   0.0069  \n"
     ]
    }
   ],
   "source": [
    "refmac5 = np.zeros((2,9))\n",
    "## Get Refmac5 related CCLLM\n",
    "for idx, dname in enumerate(dnames):\n",
    "    path_dsdata = \"%s/data/%s/standard_clean_data_scale_profile_with_pca_map1.dsdata\"%(workdir,dname)\n",
    "    path_llm = scripts.fsystem.H5manager.reader(path_dsdata,\"lunus_llm_refmac5\")\n",
    "    \n",
    "    with h5py.File(path_llm,\"r\") as f:\n",
    "        refmac5[0,idx] = f[\"lunus_llm_aniso_cc\"][()]\n",
    "        refmac5[1,idx] = f[\"lunus_llm_aniso_sigma_A\"][()]\n",
    "\n",
    "## Print the data\n",
    "for idx,x in enumerate(refmac5):\n",
    "    print \" \".join([str(round(i,4)).ljust(8) for i in x])"
   ]
  },
  {
   "cell_type": "code",
   "execution_count": 8,
   "metadata": {},
   "outputs": [
    {
     "name": "stdout",
     "output_type": "stream",
     "text": [
      "0.571    0.578    0.5693   0.6414   0.5666   0.6276   0.6306   0.649    0.6705  \n",
      "0.118    0.1544   0.1486   0.0024   0.0756   0.0146   0.0145   0.0019   0.0705  \n"
     ]
    }
   ],
   "source": [
    "phenix = np.zeros((2,9))\n",
    "## Get Refmac5 related CCLLM\n",
    "for idx, dname in enumerate(dnames):\n",
    "    path_dsdata = \"%s/data/%s/standard_clean_data_scale_profile_with_pca_map1.dsdata\"%(workdir,dname)\n",
    "    path_llm = scripts.fsystem.H5manager.reader(path_dsdata,\"lunus_llm_phenix\")\n",
    "    \n",
    "    with h5py.File(path_llm,\"r\") as f:\n",
    "        phenix[0,idx] = f[\"lunus_llm_aniso_cc\"][()]\n",
    "        phenix[1,idx] = f[\"lunus_llm_aniso_sigma_A\"][()]\n",
    "\n",
    "## Print the data\n",
    "for idx,x in enumerate(phenix):\n",
    "    print \" \".join([str(round(i,4)).ljust(8) for i in x])"
   ]
  },
  {
   "cell_type": "code",
   "execution_count": 9,
   "metadata": {},
   "outputs": [
    {
     "name": "stdout",
     "output_type": "stream",
     "text": [
      "WT    | CC LLM |  Zero ADP | Mean=0.646 | Std=0.0182 | (0.628 -> 0.664)\n",
      "WT    |  Sigma |   Iso ADP | Mean=0.038 | Std=0.0488 | (-0.011 -> 0.087)\n"
     ]
    }
   ],
   "source": [
    "## The Refmac5 results\n",
    "index = range(0,3)\n",
    "ave = np.mean(refmac5[0,index]); std = np.std(refmac5[0,index]);\n",
    "print \"WT    | CC LLM |  Zero ADP | Mean=%4.3f | Std=%6.4f | (%4.3f -> %4.3f)\"%(ave,std,ave-std,ave+std)\n",
    "ave = np.mean(refmac5[1,index]); std = np.std(refmac5[1,index]);\n",
    "print \"WT    |  Sigma |   Iso ADP | Mean=%4.3f | Std=%6.4f | (%4.3f -> %4.3f)\"%(ave,std,ave-std,ave+std)"
   ]
  },
  {
   "cell_type": "code",
   "execution_count": 10,
   "metadata": {},
   "outputs": [
    {
     "name": "stdout",
     "output_type": "stream",
     "text": [
      "WT    | CC LLM |  Zero ADP | Mean=0.573 | Std=0.0038 | (0.569 -> 0.577)\n",
      "WT    |  Sigma |   Iso ADP | Mean=0.140 | Std=0.0159 | (0.124 -> 0.156)\n"
     ]
    }
   ],
   "source": [
    "## The PHENIX results\n",
    "index = range(0,3)\n",
    "ave = np.mean(phenix[0,index]); std = np.std(phenix[0,index]);\n",
    "print \"WT    | CC LLM |  Zero ADP | Mean=%4.3f | Std=%6.4f | (%4.3f -> %4.3f)\"%(ave,std,ave-std,ave+std)\n",
    "ave = np.mean(phenix[1,index]); std = np.std(phenix[1,index]);\n",
    "print \"WT    |  Sigma |   Iso ADP | Mean=%4.3f | Std=%6.4f | (%4.3f -> %4.3f)\"%(ave,std,ave-std,ave+std)"
   ]
  },
  {
   "cell_type": "code",
   "execution_count": null,
   "metadata": {},
   "outputs": [],
   "source": []
  },
  {
   "cell_type": "markdown",
   "metadata": {},
   "source": [
    "## Image Rotation Per Angle"
   ]
  },
  {
   "cell_type": "code",
   "execution_count": 11,
   "metadata": {},
   "outputs": [
    {
     "name": "stdout",
     "output_type": "stream",
     "text": [
      "0.5\n"
     ]
    }
   ],
   "source": [
    "fname = \"%s/data/PIPELINE/datadir/image_file_2021_01_23_00_38_40_475047_00000_image_raw.h5\"%workdir\n",
    "print scripts.fsystem.H5manager.reader(fname,\"angle_step_deg\")"
   ]
  },
  {
   "cell_type": "markdown",
   "metadata": {},
   "source": [
    "## Image Exposure Time"
   ]
  },
  {
   "cell_type": "code",
   "execution_count": 12,
   "metadata": {},
   "outputs": [
    {
     "name": "stdout",
     "output_type": "stream",
     "text": [
      "0.2977\n"
     ]
    }
   ],
   "source": [
    "fname = \"%s/data/PIPELINE/datadir/image_file_2021_01_23_00_38_40_475047_00000_image_raw.h5\"%workdir\n",
    "print scripts.fsystem.H5manager.reader(fname,\"exposure_time_s\")"
   ]
  },
  {
   "cell_type": "markdown",
   "metadata": {},
   "source": [
    "## X-ray energy"
   ]
  },
  {
   "cell_type": "code",
   "execution_count": 20,
   "metadata": {},
   "outputs": [
    {
     "name": "stdout",
     "output_type": "stream",
     "text": [
      "16.000434072845014\n"
     ]
    }
   ],
   "source": [
    "fname = \"%s/data/PIPELINE/datadir/image_file_2021_01_23_00_38_40_475047_00000_image_raw.h5\"%workdir\n",
    "wavelength_A = scripts.fsystem.H5manager.reader(fname,\"wavelength_A\")\n",
    "print 6.626068e-34 * 299792458.0 / (wavelength_A*1e-10) * 6.2415093433e18 / 1000. # KeV"
   ]
  },
  {
   "cell_type": "markdown",
   "metadata": {},
   "source": [
    "## Attenuation"
   ]
  },
  {
   "cell_type": "code",
   "execution_count": 21,
   "metadata": {},
   "outputs": [],
   "source": [
    "# Attenuation is 98%"
   ]
  },
  {
   "cell_type": "markdown",
   "metadata": {},
   "source": [
    "## Resolution at the Edge of Image "
   ]
  },
  {
   "cell_type": "code",
   "execution_count": 29,
   "metadata": {},
   "outputs": [
    {
     "name": "stdout",
     "output_type": "stream",
     "text": [
      "0.9443364269937029\n",
      "0.9779721185332311\n",
      "0.9775696939258184\n",
      "0.9779423394596776\n",
      "0.9773199174879469\n",
      "0.9775305712298719\n",
      "0.9497554816789435\n",
      "0.9780840226116881\n",
      "0.9497751624690908\n"
     ]
    }
   ],
   "source": [
    "for dname in dnames:\n",
    "    dsdata = \"%s/data/%s/standard_clean_data_scale_profile_with_pca_map1.dsdata\"%(workdir,dname)\n",
    "    image_file = scripts.fsystem.H5manager.reader(dsdata,\"image_file\")[0]\n",
    "    image_size = scripts.fsystem.H5manager.reader(image_file,\"image\").shape\n",
    "    center_px = scripts.fsystem.H5manager.reader(image_file,\"detector_center_px\")\n",
    "    pixel_size_um = scripts.fsystem.H5manager.reader(image_file,\"pixel_size_um\")\n",
    "    wavelength_A = scripts.fsystem.H5manager.reader(image_file,\"wavelength_A\")\n",
    "    distance_mm = scripts.fsystem.H5manager.reader(image_file,\"detector_distance_mm\")\n",
    "    px_to_center_mm = np.amin([center_px[0],center_px[1],image_size[0]-center_px[0],image_size[1]-center_px[1]])*pixel_size_um/1000.\n",
    "    print 1./( 1./wavelength_A * (2.*np.sin(0.5*np.arctan(px_to_center_mm/distance_mm)) ) )"
   ]
  },
  {
   "cell_type": "markdown",
   "metadata": {},
   "source": [
    "## Background exposure time"
   ]
  },
  {
   "cell_type": "code",
   "execution_count": 30,
   "metadata": {},
   "outputs": [
    {
     "name": "stdout",
     "output_type": "stream",
     "text": [
      "0.9977\n"
     ]
    }
   ],
   "source": [
    "fname = \"%s/data/PIPELINE/datadir/image_file_2021_01_23_00_38_40_475047_00000_backg_raw.h5\"%workdir\n",
    "print scripts.fsystem.H5manager.reader(fname,\"exposure_time_s\")"
   ]
  },
  {
   "cell_type": "markdown",
   "metadata": {},
   "source": [
    "## Water Ring Range in Algorithm"
   ]
  },
  {
   "cell_type": "code",
   "execution_count": 31,
   "metadata": {},
   "outputs": [
    {
     "name": "stdout",
     "output_type": "stream",
     "text": [
      "5.0 1.81818181818\n"
     ]
    }
   ],
   "source": [
    "radius_rmin_A=1.0/0.2\n",
    "radius_rmax_A=1.0/0.55\n",
    "print radius_rmin_A, radius_rmax_A"
   ]
  },
  {
   "cell_type": "markdown",
   "metadata": {},
   "source": [
    "## Minimum Number in CC_Friedel"
   ]
  },
  {
   "cell_type": "code",
   "execution_count": 34,
   "metadata": {},
   "outputs": [
    {
     "name": "stdout",
     "output_type": "stream",
     "text": [
      "WT-1 0.8031147473744776\n",
      "WT-2 0.7271875555648127\n",
      "WT-3 0.7637572473579795\n",
      "G150A-1 0.7864456517205969\n",
      "G150A-2 0.7612667959768427\n",
      "G150A-3 0.7596069411211882\n",
      "G150T-1 0.7547707560415031\n",
      "G150T-2 0.7746977469491372\n",
      "G150T-3 0.7896866885295357\n"
     ]
    }
   ],
   "source": [
    "import scripts.fsystem\n",
    "import scripts.statistics\n",
    "\n",
    "for dname in dnames:\n",
    "    stats[dname] = {}\n",
    "    path_dsdata = \"%s/data/%s/standard_clean_data_scale_profile_with_pca_map1.dsdata\"%(workdir,dname)\n",
    "    path_volume = scripts.fsystem.H5manager.reader(path_dsdata,\"merge_volume\")\n",
    "    with h5py.File(path_volume,\"r\") as f:\n",
    "        weight = f[\"weight\"][()]\n",
    "        volume = f[\"volume\"][()]\n",
    "        volume_backg_sub = f[\"volume_backg_sub\"][()]\n",
    "        volume_backg_sub_laue_sym = f[\"volume_backg_sub_laue_sym\"][()]\n",
    "        volume_backg_sub_friedel_sym = f[\"volume_backg_sub_friedel_sym\"][()]\n",
    "        vmask = (weight>=4).astype(int)\n",
    "        \n",
    "    path_pdb = scripts.fsystem.H5manager.reader(path_dsdata,\"pdb_refmac5\")\n",
    "    lattice_constant = scripts.statistics.get_pdb_lattice_from_file(path_pdb)[:6]\n",
    "    \n",
    "    # Get CC Friedel\n",
    "    volume_backg_sub[vmask==0] = -1024\n",
    "    volume_backg_sub_friedel_sym[vmask==0] = -1024\n",
    "    # 1./np.array(upper_res_Ainv), 1./np.array(floor_res_Ainv), np.array(corr), np.array(number_value)\n",
    "    max_res_A, min_res_A, corr, number = scripts.volume.correlation(volume_backg_sub_friedel_sym, volume_backg_sub, \\\n",
    "                                                                lattice_constant_A_deg=lattice_constant, \\\n",
    "                                                                res_shell_step_Ainv=None, \\\n",
    "                                                                num_res_shell=15, res_cut_off_high_A=1.4, \\\n",
    "                                                                res_cut_off_low_A=50, num_ref_uniform=True, \\\n",
    "                                                                vmin = -100, vmax=1000)\n",
    "    ave_res_invA = (1./max_res_A + 1./min_res_A)/2.\n",
    "    ave_res_invA = ave_res_invA[:-1]\n",
    "    ccfriedel = corr[:-1]\n",
    "\n",
    "    print dname, np.amin(ccfriedel)"
   ]
  },
  {
   "cell_type": "markdown",
   "metadata": {},
   "source": [
    "## Minimum Number in CC_Laue"
   ]
  },
  {
   "cell_type": "code",
   "execution_count": 35,
   "metadata": {},
   "outputs": [
    {
     "name": "stdout",
     "output_type": "stream",
     "text": [
      "WT-1 0.6899316913039432\n",
      "WT-2 0.5794548460491586\n",
      "WT-3 0.620679658323768\n",
      "G150A-1 0.6506060310184952\n",
      "G150A-2 0.6032914363349073\n",
      "G150A-3 0.602117247595602\n",
      "G150T-1 0.5923343026603717\n",
      "G150T-2 0.6407766766534486\n",
      "G150T-3 0.6525862287288796\n"
     ]
    }
   ],
   "source": [
    "import scripts.fsystem\n",
    "import scripts.statistics\n",
    "\n",
    "for dname in dnames:\n",
    "    stats[dname] = {}\n",
    "    path_dsdata = \"%s/data/%s/standard_clean_data_scale_profile_with_pca_map1.dsdata\"%(workdir,dname)\n",
    "    path_volume = scripts.fsystem.H5manager.reader(path_dsdata,\"merge_volume\")\n",
    "    with h5py.File(path_volume,\"r\") as f:\n",
    "        weight = f[\"weight\"][()]\n",
    "        volume = f[\"volume\"][()]\n",
    "        volume_backg_sub = f[\"volume_backg_sub\"][()]\n",
    "        volume_backg_sub_laue_sym = f[\"volume_backg_sub_laue_sym\"][()]\n",
    "        volume_backg_sub_friedel_sym = f[\"volume_backg_sub_friedel_sym\"][()]\n",
    "        vmask = (weight>=4).astype(int)\n",
    "        \n",
    "    path_pdb = scripts.fsystem.H5manager.reader(path_dsdata,\"pdb_refmac5\")\n",
    "    lattice_constant = scripts.statistics.get_pdb_lattice_from_file(path_pdb)[:6]\n",
    "    \n",
    "    # Get CC Laue\n",
    "    volume_backg_sub[vmask==0] = -1024\n",
    "    volume_backg_sub_laue_sym[vmask==0] = -1024\n",
    "    max_res_A, min_res_A, corr, number = scripts.volume.correlation(volume_backg_sub_laue_sym, volume_backg_sub, \\\n",
    "                                                                lattice_constant_A_deg=lattice_constant, \\\n",
    "                                                                res_shell_step_Ainv=None, \\\n",
    "                                                                num_res_shell=15, res_cut_off_high_A=1.4, \\\n",
    "                                                                res_cut_off_low_A=50, num_ref_uniform=True, \\\n",
    "                                                                vmin = -100, vmax=1000)\n",
    "    ave_res_invA = (1./max_res_A + 1./min_res_A)/2.\n",
    "    ave_res_invA = ave_res_invA[:-1]\n",
    "    cclaue = corr[:-1]\n",
    "\n",
    "    print dname, np.amin(cclaue)"
   ]
  },
  {
   "cell_type": "markdown",
   "metadata": {},
   "source": [
    "## Average Correlation Length"
   ]
  },
  {
   "cell_type": "code",
   "execution_count": 40,
   "metadata": {},
   "outputs": [
    {
     "name": "stdout",
     "output_type": "stream",
     "text": [
      "Zero ADP 7.0766099321524525\n",
      "Aniso ADP 8.400626981590639\n"
     ]
    }
   ],
   "source": [
    "data = np.zeros((9,9))\n",
    "\n",
    "## Get CCLLM\n",
    "for idx, dname in enumerate(dnames):\n",
    "    path_dsdata = \"%s/data/%s/standard_clean_data_scale_profile_with_pca_map1.dsdata\"%(workdir,dname)\n",
    "    path_llm = scripts.fsystem.H5manager.reader(path_dsdata,\"lunus_llm_refmac5\")\n",
    "    \n",
    "    with h5py.File(path_llm,\"r\") as f:\n",
    "        data[0,idx] = f[\"lunus_llm_zero_cc\"][()]\n",
    "        data[1,idx] = f[\"lunus_llm_zero_gamma_A\"][()]\n",
    "        data[2,idx] = f[\"lunus_llm_zero_sigma_A\"][()]\n",
    "        data[3,idx] = f[\"lunus_llm_iso_cc\"][()]\n",
    "        data[4,idx] = f[\"lunus_llm_iso_gamma_A\"][()]\n",
    "        data[5,idx] = f[\"lunus_llm_iso_sigma_A\"][()]\n",
    "        data[6,idx] = f[\"lunus_llm_aniso_cc\"][()]\n",
    "        data[7,idx] = f[\"lunus_llm_aniso_gamma_A\"][()]\n",
    "        data[8,idx] = f[\"lunus_llm_aniso_sigma_A\"][()]\n",
    "\n",
    "print \"Zero ADP\", np.mean(data[1,:])\n",
    "print \"Aniso ADP\", np.mean(data[7,:])"
   ]
  },
  {
   "cell_type": "markdown",
   "metadata": {},
   "source": [
    "## Average CC_RBT"
   ]
  },
  {
   "cell_type": "code",
   "execution_count": 41,
   "metadata": {},
   "outputs": [
    {
     "name": "stdout",
     "output_type": "stream",
     "text": [
      "Average CC_LLM | Aniso ADP |  0.5351318888888889\n"
     ]
    }
   ],
   "source": [
    "data = np.zeros((6,9))\n",
    "\n",
    "## Get CCRBT\n",
    "for idx, dname in enumerate(dnames):\n",
    "    path_dsdata = \"%s/data/%s/standard_clean_data_scale_profile_with_pca_map1.dsdata\"%(workdir,dname)\n",
    "    path_rbt = scripts.fsystem.H5manager.reader(path_dsdata,\"lunus_rbt_refmac5\")\n",
    "    \n",
    "    with h5py.File(path_rbt,\"r\") as f:\n",
    "        data[0,idx] = f[\"lunus_rbt_zero_cc\"][()]\n",
    "        data[1,idx] = f[\"lunus_rbt_zero_sigma_A\"][()]\n",
    "        data[2,idx] = f[\"lunus_rbt_iso_cc\"][()]\n",
    "        data[3,idx] = f[\"lunus_rbt_iso_sigma_A\"][()]\n",
    "        data[4,idx] = f[\"lunus_rbt_aniso_cc\"][()]\n",
    "        data[5,idx] = f[\"lunus_rbt_aniso_sigma_A\"][()]\n",
    "\n",
    "print \"Average CC_LLM | Aniso ADP | \", np.mean(data[4,:])"
   ]
  },
  {
   "cell_type": "markdown",
   "metadata": {},
   "source": [
    "## CC_Friedel of Random Dataset"
   ]
  },
  {
   "cell_type": "code",
   "execution_count": 45,
   "metadata": {},
   "outputs": [
    {
     "name": "stdout",
     "output_type": "stream",
     "text": [
      "0.7086816098305236\n"
     ]
    }
   ],
   "source": [
    "x = np.random.random(100000)\n",
    "print np.corrcoef(x, (x+x[::-1])/2.)[0,1]"
   ]
  },
  {
   "cell_type": "markdown",
   "metadata": {},
   "source": [
    "## Average CC_LLM"
   ]
  },
  {
   "cell_type": "code",
   "execution_count": 47,
   "metadata": {},
   "outputs": [
    {
     "name": "stdout",
     "output_type": "stream",
     "text": [
      "Zero ADP 0.6474084444444445 7.0766099321524525 0.33415048338916736\n",
      "Iso ADP 0.6734705555555556 8.114108412316172 0.004283842089751026\n",
      "Aniso ADP 0.6555825555555556 8.400626981590639 0.01658818261504484\n"
     ]
    }
   ],
   "source": [
    "data = np.zeros((9,9))\n",
    "\n",
    "## Get CCLLM\n",
    "for idx, dname in enumerate(dnames):\n",
    "    path_dsdata = \"%s/data/%s/standard_clean_data_scale_profile_with_pca_map1.dsdata\"%(workdir,dname)\n",
    "    path_llm = scripts.fsystem.H5manager.reader(path_dsdata,\"lunus_llm_refmac5\")\n",
    "    \n",
    "    with h5py.File(path_llm,\"r\") as f:\n",
    "        data[0,idx] = f[\"lunus_llm_zero_cc\"][()]\n",
    "        data[1,idx] = f[\"lunus_llm_zero_gamma_A\"][()]\n",
    "        data[2,idx] = f[\"lunus_llm_zero_sigma_A\"][()]\n",
    "        data[3,idx] = f[\"lunus_llm_iso_cc\"][()]\n",
    "        data[4,idx] = f[\"lunus_llm_iso_gamma_A\"][()]\n",
    "        data[5,idx] = f[\"lunus_llm_iso_sigma_A\"][()]\n",
    "        data[6,idx] = f[\"lunus_llm_aniso_cc\"][()]\n",
    "        data[7,idx] = f[\"lunus_llm_aniso_gamma_A\"][()]\n",
    "        data[8,idx] = f[\"lunus_llm_aniso_sigma_A\"][()]\n",
    "\n",
    "print \"Zero ADP\", np.mean(data[0,:]), np.mean(data[1,:]), np.mean(data[2,:])\n",
    "print \"Iso ADP\", np.mean(data[3,:]), np.mean(data[4,:]), np.mean(data[5,:])\n",
    "print \"Aniso ADP\", np.mean(data[6,:]), np.mean(data[7,:]), np.mean(data[8,:])"
   ]
  },
  {
   "cell_type": "markdown",
   "metadata": {},
   "source": [
    "## Figure averging depth"
   ]
  },
  {
   "cell_type": "code",
   "execution_count": 50,
   "metadata": {},
   "outputs": [
    {
     "name": "stdout",
     "output_type": "stream",
     "text": [
      "Z = 0.05\n",
      "XY= 0.02\n",
      "Z = 0.05\n",
      "XY= 0.02\n",
      "Z = 0.05\n",
      "XY= 0.02\n",
      "Z = 0.05\n",
      "XY= 0.02\n",
      "Z = 0.05\n",
      "XY= 0.02\n",
      "Z = 0.05\n",
      "XY= 0.02\n",
      "Z = 0.05\n",
      "XY= 0.02\n",
      "Z = 0.05\n",
      "XY= 0.02\n",
      "Z = 0.05\n",
      "XY= 0.02\n"
     ]
    }
   ],
   "source": [
    "half_depth_z = 4 # box length 2*depth+1\n",
    "plain_x = 3\n",
    "\n",
    "for idet, dname in enumerate(dnames):\n",
    "    path_dsdata = \"%s/data/%s/standard_clean_data_scale_profile_with_pca_map1.dsdata_map3.dsdata\"%(workdir,dname)\n",
    "    path_volume = scripts.fsystem.H5manager.reader(path_dsdata,\"merge_volume\")\n",
    "    with h5py.File(path_volume, \"r\") as f:\n",
    "        oversample = f[\"oversample\"][()]\n",
    "        voxel_length_invA = np.linalg.norm(f[\"Bmat_invA\"][:,1]) * 1.0 / oversample\n",
    "        \n",
    "    print \"Z =\", round(voxel_length_invA * (half_depth_z * 2 + 1.) , 2)\n",
    "    print \"XY=\", round(voxel_length_invA * plain_x , 2)"
   ]
  },
  {
   "cell_type": "code",
   "execution_count": null,
   "metadata": {},
   "outputs": [],
   "source": []
  }
 ],
 "metadata": {
  "kernelspec": {
   "display_name": "Python 2",
   "language": "python",
   "name": "python2"
  },
  "language_info": {
   "codemirror_mode": {
    "name": "ipython",
    "version": 2
   },
   "file_extension": ".py",
   "mimetype": "text/x-python",
   "name": "python",
   "nbconvert_exporter": "python",
   "pygments_lexer": "ipython2",
   "version": "2.7.15"
  }
 },
 "nbformat": 4,
 "nbformat_minor": 2
}
