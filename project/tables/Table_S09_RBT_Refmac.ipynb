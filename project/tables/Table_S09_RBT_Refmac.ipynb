{
 "cells": [
  {
   "cell_type": "code",
   "execution_count": 3,
   "metadata": {},
   "outputs": [
    {
     "data": {
      "text/html": [
       "<style>.container { width:100% !important; }</style>"
      ],
      "text/plain": [
       "<IPython.core.display.HTML object>"
      ]
     },
     "metadata": {},
     "output_type": "display_data"
    }
   ],
   "source": [
    "from IPython.core.display import display, HTML\n",
    "display(HTML(\"<style>.container { width:100% !important; }</style>\"))"
   ]
  },
  {
   "cell_type": "code",
   "execution_count": 4,
   "metadata": {},
   "outputs": [],
   "source": [
    "import time\n",
    "import h5py\n",
    "import os,sys\n",
    "import numpy as np"
   ]
  },
  {
   "cell_type": "code",
   "execution_count": 5,
   "metadata": {},
   "outputs": [],
   "source": [
    "DSPACK_HOME=os.environ.get(\"DSPACK_HOME\")\n",
    "if DSPACK_HOME not in sys.path:\n",
    "    sys.path.append(DSPACK_HOME)"
   ]
  },
  {
   "cell_type": "code",
   "execution_count": 6,
   "metadata": {},
   "outputs": [],
   "source": [
    "import scripts.fsystem"
   ]
  },
  {
   "cell_type": "code",
   "execution_count": 7,
   "metadata": {},
   "outputs": [],
   "source": [
    "workdir = \"/reg/data/ana03/scratch/zhensu/Experiment/ICH/20201225/\"\n",
    "dnames = [\"WT-1\", \"WT-2\", \"WT-3\", \"G150A-1\", \"G150A-2\", \"G150A-3\", \"G150T-1\", \"G150T-2\", \"G150T-3\"]"
   ]
  },
  {
   "cell_type": "code",
   "execution_count": null,
   "metadata": {},
   "outputs": [],
   "source": []
  },
  {
   "cell_type": "code",
   "execution_count": 11,
   "metadata": {},
   "outputs": [
    {
     "name": "stdout",
     "output_type": "stream",
     "text": [
      "0.51     0.5      0.52     0.52     0.51     0.52     0.47     0.48     0.49    \n",
      "0.35     0.38     0.36     0.37     0.36     0.38     0.34     0.36     0.36    \n",
      "0.55     0.54     0.56     0.55     0.54     0.55     0.52     0.52     0.54    \n",
      "0.002308 0.002301 0.001033 0.002254 0.001168 0.016785 0.005588 0.003096 0.0066  \n",
      "0.55     0.54     0.55     0.55     0.53     0.54     0.51     0.51     0.54    \n",
      "0.002475 0.059924 0.024718 0.002255 0.006888 0.019691 0.005446 0.001    0.003382\n"
     ]
    }
   ],
   "source": [
    "data = np.zeros((6,9))\n",
    "\n",
    "## Get CCRBT\n",
    "for idx, dname in enumerate(dnames):\n",
    "    path_dsdata = \"%s/data/%s/standard_clean_data_scale_profile_with_pca_map1.dsdata\"%(workdir,dname)\n",
    "    path_rbt = scripts.fsystem.H5manager.reader(path_dsdata,\"lunus_rbt_refmac5\")\n",
    "    \n",
    "    with h5py.File(path_rbt) as f:\n",
    "        data[0,idx] = round(f[\"lunus_rbt_zero_cc\"].value,2)\n",
    "        data[1,idx] = round(f[\"lunus_rbt_zero_sigma_A\"].value,2)\n",
    "        data[2,idx] = round(f[\"lunus_rbt_iso_cc\"].value,2)\n",
    "        data[3,idx] = round(f[\"lunus_rbt_iso_sigma_A\"].value,6)\n",
    "        data[4,idx] = round(f[\"lunus_rbt_aniso_cc\"].value,2)\n",
    "        data[5,idx] = round(f[\"lunus_rbt_aniso_sigma_A\"].value,6)\n",
    "\n",
    "## Print the data\n",
    "for x in data:\n",
    "    print \" \".join([str(i).ljust(8) for i in x])"
   ]
  },
  {
   "cell_type": "code",
   "execution_count": null,
   "metadata": {},
   "outputs": [],
   "source": []
  }
 ],
 "metadata": {
  "kernelspec": {
   "display_name": "Python 2",
   "language": "python",
   "name": "python2"
  },
  "language_info": {
   "codemirror_mode": {
    "name": "ipython",
    "version": 2
   },
   "file_extension": ".py",
   "mimetype": "text/x-python",
   "name": "python",
   "nbconvert_exporter": "python",
   "pygments_lexer": "ipython2",
   "version": "2.7.15"
  }
 },
 "nbformat": 4,
 "nbformat_minor": 2
}
