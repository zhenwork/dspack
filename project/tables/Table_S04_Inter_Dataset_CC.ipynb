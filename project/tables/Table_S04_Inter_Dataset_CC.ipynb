{
 "cells": [
  {
   "cell_type": "code",
   "execution_count": 1,
   "metadata": {},
   "outputs": [
    {
     "data": {
      "text/html": [
       "<style>.container { width:100% !important; }</style>"
      ],
      "text/plain": [
       "<IPython.core.display.HTML object>"
      ]
     },
     "metadata": {},
     "output_type": "display_data"
    }
   ],
   "source": [
    "from IPython.core.display import display, HTML\n",
    "display(HTML(\"<style>.container { width:100% !important; }</style>\"))"
   ]
  },
  {
   "cell_type": "code",
   "execution_count": 2,
   "metadata": {},
   "outputs": [],
   "source": [
    "import time\n",
    "import h5py\n",
    "import os,sys\n",
    "import numpy as np"
   ]
  },
  {
   "cell_type": "code",
   "execution_count": 5,
   "metadata": {},
   "outputs": [],
   "source": [
    "DSPACK_HOME=os.environ.get(\"DSPACK_HOME\")\n",
    "if DSPACK_HOME not in sys.path:\n",
    "    sys.path.append(DSPACK_HOME)"
   ]
  },
  {
   "cell_type": "code",
   "execution_count": 7,
   "metadata": {},
   "outputs": [],
   "source": [
    "import scripts.fsystem"
   ]
  },
  {
   "cell_type": "code",
   "execution_count": 6,
   "metadata": {},
   "outputs": [],
   "source": [
    "workdir = \"/reg/data/ana03/scratch/zhensu/Experiment/ICH/20201225/\"\n",
    "dnames = [\"WT-1\", \"WT-2\", \"WT-3\", \"G150A-1\", \"G150A-2\", \"G150A-3\", \"G150T-1\", \"G150T-2\", \"G150T-3\"]"
   ]
  },
  {
   "cell_type": "code",
   "execution_count": null,
   "metadata": {},
   "outputs": [],
   "source": []
  },
  {
   "cell_type": "code",
   "execution_count": 15,
   "metadata": {},
   "outputs": [
    {
     "name": "stdout",
     "output_type": "stream",
     "text": [
      "[[0.85 0.85 0.87 0.82 0.83 0.85 0.   0.   0.  ]\n",
      " [0.   0.78 0.83 0.87 0.8  0.85 0.   0.   0.  ]\n",
      " [0.   0.   0.81 0.83 0.88 0.85 0.   0.   0.  ]\n",
      " [0.   0.   0.   0.81 0.8  0.83 0.   0.   0.  ]\n",
      " [0.   0.   0.   0.   0.76 0.81 0.   0.   0.  ]\n",
      " [0.   0.   0.   0.   0.   0.77 0.   0.   0.  ]\n",
      " [0.   0.   0.   0.   0.   0.   0.82 0.85 0.91]\n",
      " [0.   0.   0.   0.   0.   0.   0.   0.84 0.88]\n",
      " [0.   0.   0.   0.   0.   0.   0.   0.   0.89]]\n"
     ]
    }
   ],
   "source": [
    "data = np.zeros((9,9))\n",
    "\n",
    "## Get CC1/2\n",
    "for idx, dname in enumerate(dnames):\n",
    "    path_dsdata = \"%s/data/%s/standard_clean_data_scale_profile_with_pca_map1.dsdata\"%(workdir,dname)\n",
    "    path_phenix = scripts.fsystem.H5manager.reader(path_dsdata,\"phenix_merge_stats\")\n",
    "    cc12 = scripts.fsystem.H5manager.reader(path_phenix,\"phenix_cc12\")\n",
    "    data[idx,idx] = cc12\n",
    "    \n",
    "## Get inter-dataset CC\n",
    "marker = np.triu(np.ones((9,9)).astype(int), 1)\n",
    "marker[0:6,6:9] = 0\n",
    "\n",
    "path_cc_map = \"%s/data/CC-MAP/ccmap_standard_clean_data_scale_profile_with_pca.out\"%workdir\n",
    "ccmap = scripts.fsystem.H5manager.reader(path_cc_map,\"cc\")\n",
    "index = np.where(marker==1)\n",
    "data[index] = ccmap[index]\n",
    "\n",
    "## Print the data\n",
    "print np.around(data, 2)"
   ]
  },
  {
   "cell_type": "code",
   "execution_count": null,
   "metadata": {},
   "outputs": [],
   "source": []
  }
 ],
 "metadata": {
  "kernelspec": {
   "display_name": "Python 2",
   "language": "python",
   "name": "python2"
  },
  "language_info": {
   "codemirror_mode": {
    "name": "ipython",
    "version": 2
   },
   "file_extension": ".py",
   "mimetype": "text/x-python",
   "name": "python",
   "nbconvert_exporter": "python",
   "pygments_lexer": "ipython2",
   "version": "2.7.15"
  }
 },
 "nbformat": 4,
 "nbformat_minor": 2
}
