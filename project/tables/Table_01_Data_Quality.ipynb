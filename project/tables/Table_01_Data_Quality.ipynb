{
 "cells": [
  {
   "cell_type": "code",
   "execution_count": 1,
   "metadata": {},
   "outputs": [
    {
     "data": {
      "text/html": [
       "<style>.container { width:100% !important; }</style>"
      ],
      "text/plain": [
       "<IPython.core.display.HTML object>"
      ]
     },
     "metadata": {},
     "output_type": "display_data"
    }
   ],
   "source": [
    "from IPython.core.display import display, HTML\n",
    "display(HTML(\"<style>.container { width:100% !important; }</style>\"))"
   ]
  },
  {
   "cell_type": "code",
   "execution_count": 2,
   "metadata": {},
   "outputs": [],
   "source": [
    "import time\n",
    "import h5py\n",
    "import os,sys\n",
    "import numpy as np"
   ]
  },
  {
   "cell_type": "code",
   "execution_count": 3,
   "metadata": {},
   "outputs": [],
   "source": [
    "DSPACK_HOME=os.environ.get(\"DSPACK_HOME\")\n",
    "if DSPACK_HOME not in sys.path:\n",
    "    sys.path.append(DSPACK_HOME)"
   ]
  },
  {
   "cell_type": "code",
   "execution_count": 4,
   "metadata": {},
   "outputs": [
    {
     "data": {
      "text/plain": [
       "<module 'scripts.statistics' from '/reg/data/ana03/scratch/zhensu/Develop/psvolume/v3.0/psvolume/scripts/statistics.pyc'>"
      ]
     },
     "execution_count": 4,
     "metadata": {},
     "output_type": "execute_result"
    }
   ],
   "source": [
    "import scripts.fsystem\n",
    "import scripts.statistics\n",
    "reload(scripts.statistics)"
   ]
  },
  {
   "cell_type": "code",
   "execution_count": 5,
   "metadata": {},
   "outputs": [],
   "source": [
    "workdir = \"/reg/data/ana03/scratch/zhensu/Experiment/ICH/20201225/\"\n",
    "dnames = [\"WT-1\", \"WT-2\", \"WT-3\", \"G150A-1\", \"G150A-2\", \"G150A-3\", \"G150T-1\", \"G150T-2\", \"G150T-3\"]"
   ]
  },
  {
   "cell_type": "code",
   "execution_count": 12,
   "metadata": {},
   "outputs": [],
   "source": [
    "def get_processing_results(pipeline=\"standard\",scale_factor=\"profile\",pca_step=True,dnames=None,workdir=None):\n",
    "    data = np.zeros((6,9))\n",
    "    file_tail = \"_with_pca_map1.dsdata\" if pca_step else \"_map1.dsdata\"\n",
    "    \n",
    "    ## Get CCFriedel\n",
    "    for idx,dname in enumerate(dnames):\n",
    "        dsdata_file = \"%s/data/%s/%s_clean_data_scale_%s\"%(workdir,dname,pipeline,scale_factor)+file_tail\n",
    "        map_file = scripts.fsystem.H5manager.reader(dsdata_file,\"merge_volume\")\n",
    "        pdb_file = scripts.fsystem.H5manager.reader(dsdata_file,\"pdb_refmac5\")\n",
    "        data[1, idx] = scripts.statistics.calculate_ccfriedel_from_map(map_file,pdb_file)\n",
    "        if dname==\"WT-1\":\n",
    "            print dsdata_file\n",
    "        \n",
    "    ## Get CCLaue\n",
    "    for idx,dname in enumerate(dnames):\n",
    "        dsdata_file = \"%s/data/%s/%s_clean_data_scale_%s\"%(workdir,dname,pipeline,scale_factor)+file_tail\n",
    "        map_file = scripts.fsystem.H5manager.reader(dsdata_file,\"merge_volume\")\n",
    "        pdb_file = scripts.fsystem.H5manager.reader(dsdata_file,\"pdb_refmac5\")\n",
    "        data[2, idx] = scripts.statistics.calculate_cclaue_from_map(map_file,pdb_file)\n",
    "        if dname==\"WT-1\":\n",
    "            print dsdata_file\n",
    "        \n",
    "    ## Get CC1/2\n",
    "    for idx,dname in enumerate(dnames):\n",
    "        dsdata_file = \"%s/data/%s/%s_clean_data_scale_%s\"%(workdir,dname,pipeline,scale_factor)+file_tail\n",
    "        phenix_file = scripts.fsystem.H5manager.reader(dsdata_file,\"phenix_merge_stats\")\n",
    "        data[3, idx] = scripts.fsystem.H5manager.reader(phenix_file,\"phenix_cc12\")\n",
    "        \n",
    "        phenix_dat = os.path.join(os.path.dirname(phenix_file),\"phenix.merging_statistics.out\")\n",
    "        with open(phenix_dat) as f:\n",
    "            content = f.readlines()\n",
    "        data[0, idx] = float(content[-8].split()[5])\n",
    "        if dname==\"WT-1\":\n",
    "            print dsdata_file\n",
    "        \n",
    "    ## Get CCRep\n",
    "    marker = np.triu(np.ones((9,9)).astype(int), 1)\n",
    "    marker[0:6,6:9] = 0\n",
    "    marker[0:3,3:6] = 0\n",
    "    \n",
    "    map_file_tail = \"_with_pca.out\" if pca_step else \".out\"\n",
    "    path_cc_map = \"%s/data/CC-MAP/ccmap_%s_clean_data_scale_%s\"%(workdir,pipeline,scale_factor)+map_file_tail\n",
    "    ccmap = scripts.fsystem.H5manager.reader(path_cc_map,\"cc\")\n",
    "    ccmap *= marker\n",
    "    data[4] = np.sum(np.maximum(ccmap,ccmap.T),axis=0) / np.sum(np.maximum(marker,marker.T),axis=0)\n",
    "    print path_cc_map\n",
    "    \n",
    "    ## Get CC Cross\n",
    "    marker = np.zeros((9,9))\n",
    "    marker[0:3,3:6] = 1\n",
    "    ccmap = scripts.fsystem.H5manager.reader(path_cc_map,\"cc\")\n",
    "    ccmap *= marker\n",
    "    tmp = np.sum(np.maximum(marker,marker.T),axis=0)\n",
    "    tmp[tmp==0]=1e9\n",
    "    data[5] = np.sum(np.maximum(ccmap,ccmap.T),axis=0) / tmp\n",
    "    ## \n",
    "    return data"
   ]
  },
  {
   "cell_type": "code",
   "execution_count": 13,
   "metadata": {},
   "outputs": [],
   "source": [
    "def print_data(data,ref):\n",
    "    data_name = [\"Complete\",\"CC_Friedel\",\"CC_Laue\",\"CC_1/2\",\"CC_Rep\",\"CC_Cross\"]\n",
    "    for i in range(len(data)):\n",
    "        x = []\n",
    "        for j in range(len(data.T)):\n",
    "            value = \"{:.2f}\".format(data[i,j] - ref[i,j])\n",
    "            if data[i,j] - ref[i,j] > 0:\n",
    "                value = \"+\"+value\n",
    "            x.append(value)\n",
    "        print str(data_name[i]).ljust(12), \" \".join([_.ljust(8) for _ in x])"
   ]
  },
  {
   "cell_type": "code",
   "execution_count": 14,
   "metadata": {},
   "outputs": [],
   "source": [
    "data_name = [\"Complete\",\"CC_Friedel\",\"CC_Laue\",\"CC_1/2\",\"CC_Rep\",\"CC_Cross\"]"
   ]
  },
  {
   "cell_type": "markdown",
   "metadata": {},
   "source": [
    "## A. Standard Pipeline"
   ]
  },
  {
   "cell_type": "code",
   "execution_count": 15,
   "metadata": {
    "scrolled": true
   },
   "outputs": [
    {
     "name": "stdout",
     "output_type": "stream",
     "text": [
      "/reg/data/ana03/scratch/zhensu/Experiment/ICH/20201225//data/WT-1/standard_clean_data_scale_profile_with_pca_map1.dsdata\n",
      "/reg/data/ana03/scratch/zhensu/Experiment/ICH/20201225//data/WT-1/standard_clean_data_scale_profile_with_pca_map1.dsdata\n",
      "/reg/data/ana03/scratch/zhensu/Experiment/ICH/20201225//data/WT-1/standard_clean_data_scale_profile_with_pca_map1.dsdata\n",
      "/reg/data/ana03/scratch/zhensu/Experiment/ICH/20201225//data/CC-MAP/ccmap_standard_clean_data_scale_profile_with_pca.out\n",
      "Complete     98.36    100.0    99.3     100.0    98.8     100.0    99.84    100.0    98.97   \n",
      "CC_Friedel   0.93     0.91     0.91     0.93     0.91     0.91     0.91     0.92     0.94    \n",
      "CC_Laue      0.9      0.87     0.87     0.88     0.86     0.85     0.86     0.88     0.91    \n",
      "CC_1/2       0.85     0.78     0.81     0.81     0.76     0.77     0.82     0.84     0.89    \n",
      "CC_Rep       0.86     0.84     0.85     0.82     0.81     0.82     0.88     0.87     0.89    \n",
      "CC_Cross     0.83     0.84     0.85     0.84     0.84     0.85     0.0      0.0      0.0     \n"
     ]
    }
   ],
   "source": [
    "data = get_processing_results(pipeline=\"standard\",scale_factor=\"profile\",pca_step=True,dnames=dnames,workdir=workdir)\n",
    "ref = data.copy()\n",
    "## Print the data\n",
    "for idx,x in enumerate(data):\n",
    "    print str(data_name[idx]).ljust(12),\" \".join([str(round(i,2)).ljust(8) for i in x])"
   ]
  },
  {
   "cell_type": "code",
   "execution_count": null,
   "metadata": {},
   "outputs": [],
   "source": []
  },
  {
   "cell_type": "code",
   "execution_count": null,
   "metadata": {},
   "outputs": [],
   "source": []
  },
  {
   "cell_type": "code",
   "execution_count": null,
   "metadata": {},
   "outputs": [],
   "source": []
  }
 ],
 "metadata": {
  "kernelspec": {
   "display_name": "Python 2",
   "language": "python",
   "name": "python2"
  },
  "language_info": {
   "codemirror_mode": {
    "name": "ipython",
    "version": 2
   },
   "file_extension": ".py",
   "mimetype": "text/x-python",
   "name": "python",
   "nbconvert_exporter": "python",
   "pygments_lexer": "ipython2",
   "version": "2.7.15"
  }
 },
 "nbformat": 4,
 "nbformat_minor": 2
}
