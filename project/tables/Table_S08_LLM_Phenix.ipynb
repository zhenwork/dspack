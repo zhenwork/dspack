{
 "cells": [
  {
   "cell_type": "code",
   "execution_count": 1,
   "metadata": {},
   "outputs": [
    {
     "data": {
      "text/html": [
       "<style>.container { width:100% !important; }</style>"
      ],
      "text/plain": [
       "<IPython.core.display.HTML object>"
      ]
     },
     "metadata": {},
     "output_type": "display_data"
    }
   ],
   "source": [
    "from IPython.core.display import display, HTML\n",
    "display(HTML(\"<style>.container { width:100% !important; }</style>\"))"
   ]
  },
  {
   "cell_type": "code",
   "execution_count": 2,
   "metadata": {},
   "outputs": [],
   "source": [
    "import time\n",
    "import h5py\n",
    "import os,sys\n",
    "import numpy as np"
   ]
  },
  {
   "cell_type": "code",
   "execution_count": 3,
   "metadata": {},
   "outputs": [],
   "source": [
    "DSPACK_HOME=os.environ.get(\"DSPACK_HOME\")\n",
    "if DSPACK_HOME not in sys.path:\n",
    "    sys.path.append(DSPACK_HOME)"
   ]
  },
  {
   "cell_type": "code",
   "execution_count": 4,
   "metadata": {},
   "outputs": [],
   "source": [
    "import scripts.fsystem"
   ]
  },
  {
   "cell_type": "code",
   "execution_count": 5,
   "metadata": {},
   "outputs": [],
   "source": [
    "workdir = \"/reg/data/ana03/scratch/zhensu/Experiment/ICH/20201225/\"\n",
    "dnames = [\"WT-1\", \"WT-2\", \"WT-3\", \"G150A-1\", \"G150A-2\", \"G150A-3\", \"G150T-1\", \"G150T-2\", \"G150T-3\"]"
   ]
  },
  {
   "cell_type": "code",
   "execution_count": null,
   "metadata": {},
   "outputs": [],
   "source": []
  },
  {
   "cell_type": "code",
   "execution_count": 8,
   "metadata": {},
   "outputs": [
    {
     "name": "stdout",
     "output_type": "stream",
     "text": [
      "0.64     0.64     0.64     0.64     0.62     0.65     0.65     0.65     0.67    \n",
      "6.9      6.8      7.3      7.2      7.1      7.2      7.7      8.0      7.7     \n",
      "0.32     0.32     0.32     0.33     0.32     0.34     0.33     0.34     0.34    \n",
      "0.66     0.66     0.66     0.65     0.64     0.67     0.68     0.68     0.71    \n",
      "8.2      8.1      8.6      8.7      8.3      8.4      8.7      9.1      8.5     \n",
      "0.002136 0.001767 0.00329  0.002366 0.006406 0.001908 0.005443 0.002551 0.00186 \n",
      "0.57     0.58     0.57     0.64     0.57     0.63     0.63     0.65     0.67    \n",
      "9.6      9.0      10.1     8.5      9.2      8.5      9.6      9.9      9.4     \n",
      "0.118039 0.154355 0.148568 0.002366 0.075609 0.014644 0.014469 0.001861 0.070451\n"
     ]
    }
   ],
   "source": [
    "data = np.zeros((9,9))\n",
    "\n",
    "## Get CCLLM\n",
    "for idx, dname in enumerate(dnames):\n",
    "    path_dsdata = \"%s/data/%s/standard_clean_data_scale_profile_with_pca_map1.dsdata\"%(workdir,dname)\n",
    "    path_llm = scripts.fsystem.H5manager.reader(path_dsdata,\"lunus_llm_phenix\")\n",
    "    \n",
    "    with h5py.File(path_llm) as f:\n",
    "        data[0,idx] = round(f[\"lunus_llm_zero_cc\"].value,2)\n",
    "        data[1,idx] = round(f[\"lunus_llm_zero_gamma_A\"].value,1)\n",
    "        data[2,idx] = round(f[\"lunus_llm_zero_sigma_A\"].value,2)\n",
    "        data[3,idx] = round(f[\"lunus_llm_iso_cc\"].value,2)\n",
    "        data[4,idx] = round(f[\"lunus_llm_iso_gamma_A\"].value,1)\n",
    "        data[5,idx] = round(f[\"lunus_llm_iso_sigma_A\"].value,6)\n",
    "        data[6,idx] = round(f[\"lunus_llm_aniso_cc\"].value,2)\n",
    "        data[7,idx] = round(f[\"lunus_llm_aniso_gamma_A\"].value,1)\n",
    "        data[8,idx] = round(f[\"lunus_llm_aniso_sigma_A\"].value,6)\n",
    "\n",
    "## Print the data\n",
    "for x in data:\n",
    "    print \" \".join([str(i).ljust(8) for i in x])"
   ]
  },
  {
   "cell_type": "code",
   "execution_count": null,
   "metadata": {},
   "outputs": [],
   "source": []
  }
 ],
 "metadata": {
  "kernelspec": {
   "display_name": "Python 2",
   "language": "python",
   "name": "python2"
  },
  "language_info": {
   "codemirror_mode": {
    "name": "ipython",
    "version": 2
   },
   "file_extension": ".py",
   "mimetype": "text/x-python",
   "name": "python",
   "nbconvert_exporter": "python",
   "pygments_lexer": "ipython2",
   "version": "2.7.15"
  }
 },
 "nbformat": 4,
 "nbformat_minor": 2
}
